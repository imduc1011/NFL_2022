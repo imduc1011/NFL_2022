{
 "cells": [
  {
   "cell_type": "markdown",
   "id": "c8ddad7b",
   "metadata": {},
   "source": [
    "# Day 3 (30/12/2021) "
   ]
  },
  {
   "cell_type": "code",
   "execution_count": 54,
   "id": "a60f1230",
   "metadata": {},
   "outputs": [],
   "source": [
    "#import library\n",
    "import pandas as pd\n",
    "import numpy as np\n",
    "import matplotlib.pyplot as plt\n",
    "import datetime as dt"
   ]
  },
  {
   "cell_type": "markdown",
   "id": "2d87fee5",
   "metadata": {},
   "source": [
    "# Phase 1: Clean Data "
   ]
  },
  {
   "cell_type": "code",
   "execution_count": 55,
   "id": "be48ecf6",
   "metadata": {},
   "outputs": [
    {
     "data": {
      "text/html": [
       "<div>\n",
       "<style scoped>\n",
       "    .dataframe tbody tr th:only-of-type {\n",
       "        vertical-align: middle;\n",
       "    }\n",
       "\n",
       "    .dataframe tbody tr th {\n",
       "        vertical-align: top;\n",
       "    }\n",
       "\n",
       "    .dataframe thead th {\n",
       "        text-align: right;\n",
       "    }\n",
       "</style>\n",
       "<table border=\"1\" class=\"dataframe\">\n",
       "  <thead>\n",
       "    <tr style=\"text-align: right;\">\n",
       "      <th></th>\n",
       "      <th>nflId</th>\n",
       "      <th>height</th>\n",
       "      <th>weight</th>\n",
       "      <th>birthDate</th>\n",
       "      <th>collegeName</th>\n",
       "      <th>Position</th>\n",
       "      <th>displayName</th>\n",
       "    </tr>\n",
       "  </thead>\n",
       "  <tbody>\n",
       "    <tr>\n",
       "      <th>0</th>\n",
       "      <td>42901</td>\n",
       "      <td>6-1</td>\n",
       "      <td>208</td>\n",
       "      <td>1992-07-25</td>\n",
       "      <td>James Madison</td>\n",
       "      <td>SS</td>\n",
       "      <td>Dean Marlowe</td>\n",
       "    </tr>\n",
       "    <tr>\n",
       "      <th>1</th>\n",
       "      <td>43501</td>\n",
       "      <td>6-0</td>\n",
       "      <td>220</td>\n",
       "      <td>1994-08-11</td>\n",
       "      <td>Central Michigan</td>\n",
       "      <td>FS</td>\n",
       "      <td>Kavon Frazier</td>\n",
       "    </tr>\n",
       "    <tr>\n",
       "      <th>2</th>\n",
       "      <td>43534</td>\n",
       "      <td>6-0</td>\n",
       "      <td>205</td>\n",
       "      <td>1993-06-02</td>\n",
       "      <td>Illinois</td>\n",
       "      <td>SS</td>\n",
       "      <td>Clayton Fejedelem</td>\n",
       "    </tr>\n",
       "    <tr>\n",
       "      <th>3</th>\n",
       "      <td>43535</td>\n",
       "      <td>6-1</td>\n",
       "      <td>235</td>\n",
       "      <td>1992-12-22</td>\n",
       "      <td>Temple</td>\n",
       "      <td>MLB</td>\n",
       "      <td>Tyler Matakevich</td>\n",
       "    </tr>\n",
       "    <tr>\n",
       "      <th>4</th>\n",
       "      <td>44174</td>\n",
       "      <td>6-1</td>\n",
       "      <td>236</td>\n",
       "      <td>1993-02-22</td>\n",
       "      <td>Texas Tech</td>\n",
       "      <td>ILB</td>\n",
       "      <td>Sam Eguavoen</td>\n",
       "    </tr>\n",
       "    <tr>\n",
       "      <th>5</th>\n",
       "      <td>44931</td>\n",
       "      <td>6-4</td>\n",
       "      <td>221</td>\n",
       "      <td>1993-09-16</td>\n",
       "      <td>North Carolina</td>\n",
       "      <td>WR</td>\n",
       "      <td>Mack Hollins</td>\n",
       "    </tr>\n",
       "    <tr>\n",
       "      <th>6</th>\n",
       "      <td>44985</td>\n",
       "      <td>5-8</td>\n",
       "      <td>173</td>\n",
       "      <td>1995-04-09</td>\n",
       "      <td>Georgia</td>\n",
       "      <td>WR</td>\n",
       "      <td>Isaiah McKenzie</td>\n",
       "    </tr>\n",
       "    <tr>\n",
       "      <th>7</th>\n",
       "      <td>45369</td>\n",
       "      <td>6-4</td>\n",
       "      <td>210</td>\n",
       "      <td>1995-08-14</td>\n",
       "      <td>Hawaii</td>\n",
       "      <td>WR</td>\n",
       "      <td>Marcus Kemp</td>\n",
       "    </tr>\n",
       "    <tr>\n",
       "      <th>8</th>\n",
       "      <td>45608</td>\n",
       "      <td>5-10</td>\n",
       "      <td>180</td>\n",
       "      <td>1994-10-23</td>\n",
       "      <td>Iowa State</td>\n",
       "      <td>CB</td>\n",
       "      <td>Jamal Perry</td>\n",
       "    </tr>\n",
       "    <tr>\n",
       "      <th>9</th>\n",
       "      <td>46223</td>\n",
       "      <td>6-0</td>\n",
       "      <td>205</td>\n",
       "      <td>1994-08-04</td>\n",
       "      <td>Jacksonville State</td>\n",
       "      <td>CB</td>\n",
       "      <td>Siran Neal</td>\n",
       "    </tr>\n",
       "  </tbody>\n",
       "</table>\n",
       "</div>"
      ],
      "text/plain": [
       "   nflId height  weight   birthDate         collegeName Position  \\\n",
       "0  42901    6-1     208  1992-07-25       James Madison       SS   \n",
       "1  43501    6-0     220  1994-08-11    Central Michigan       FS   \n",
       "2  43534    6-0     205  1993-06-02            Illinois       SS   \n",
       "3  43535    6-1     235  1992-12-22              Temple      MLB   \n",
       "4  44174    6-1     236  1993-02-22          Texas Tech      ILB   \n",
       "5  44931    6-4     221  1993-09-16      North Carolina       WR   \n",
       "6  44985    5-8     173  1995-04-09             Georgia       WR   \n",
       "7  45369    6-4     210  1995-08-14              Hawaii       WR   \n",
       "8  45608   5-10     180  1994-10-23          Iowa State       CB   \n",
       "9  46223    6-0     205  1994-08-04  Jacksonville State       CB   \n",
       "\n",
       "         displayName  \n",
       "0       Dean Marlowe  \n",
       "1      Kavon Frazier  \n",
       "2  Clayton Fejedelem  \n",
       "3   Tyler Matakevich  \n",
       "4       Sam Eguavoen  \n",
       "5       Mack Hollins  \n",
       "6    Isaiah McKenzie  \n",
       "7        Marcus Kemp  \n",
       "8        Jamal Perry  \n",
       "9         Siran Neal  "
      ]
     },
     "execution_count": 55,
     "metadata": {},
     "output_type": "execute_result"
    }
   ],
   "source": [
    "# import dataset\n",
    "player = pd.read_csv(\"E:/Python/NFL 2022/players.csv\")\n",
    "player.head(10)"
   ]
  },
  {
   "cell_type": "code",
   "execution_count": 56,
   "id": "fc596b59",
   "metadata": {
    "scrolled": true
   },
   "outputs": [
    {
     "data": {
      "text/plain": [
       "nflId           int64\n",
       "height         object\n",
       "weight          int64\n",
       "birthDate      object\n",
       "collegeName    object\n",
       "Position       object\n",
       "displayName    object\n",
       "dtype: object"
      ]
     },
     "execution_count": 56,
     "metadata": {},
     "output_type": "execute_result"
    }
   ],
   "source": [
    "#date type\n",
    "player.dtypes"
   ]
  },
  {
   "cell_type": "code",
   "execution_count": 57,
   "id": "e8a8ed64",
   "metadata": {},
   "outputs": [
    {
     "data": {
      "text/plain": [
       "nflId           0\n",
       "height          0\n",
       "weight          0\n",
       "birthDate      17\n",
       "collegeName     8\n",
       "Position        0\n",
       "displayName     0\n",
       "dtype: int64"
      ]
     },
     "execution_count": 57,
     "metadata": {},
     "output_type": "execute_result"
    }
   ],
   "source": [
    "#Check Null\n",
    "player.isnull().sum()"
   ]
  },
  {
   "cell_type": "code",
   "execution_count": 58,
   "id": "2ea4d010",
   "metadata": {},
   "outputs": [],
   "source": [
    "#Drop Na\n",
    "player.dropna(axis = 0, how = \"any\", inplace = True)"
   ]
  },
  {
   "cell_type": "code",
   "execution_count": 59,
   "id": "3fcfc6ca",
   "metadata": {},
   "outputs": [
    {
     "data": {
      "text/plain": [
       "0    6.1\n",
       "1    6.0\n",
       "2    6.0\n",
       "3    6.1\n",
       "4    6.1\n",
       "Name: height, dtype: object"
      ]
     },
     "execution_count": 59,
     "metadata": {},
     "output_type": "execute_result"
    }
   ],
   "source": [
    "#Height\n",
    "## replace - to .\n",
    "player[\"height\"] = player[\"height\"].str.replace(\"-\", \".\")\n",
    "player[\"height\"].head(5)"
   ]
  },
  {
   "cell_type": "code",
   "execution_count": 60,
   "id": "4bc5bd0b",
   "metadata": {},
   "outputs": [
    {
     "data": {
      "text/plain": [
       "0     6.10\n",
       "1     6.00\n",
       "2     6.00\n",
       "3     6.10\n",
       "4     6.10\n",
       "5     6.40\n",
       "6     5.80\n",
       "7     6.40\n",
       "8     5.10\n",
       "9     6.00\n",
       "10    5.11\n",
       "11    6.00\n",
       "12    5.10\n",
       "13    6.40\n",
       "14    5.10\n",
       "15    6.60\n",
       "16    6.50\n",
       "17    6.00\n",
       "18    5.11\n",
       "19    6.50\n",
       "Name: height, dtype: float64"
      ]
     },
     "execution_count": 60,
     "metadata": {},
     "output_type": "execute_result"
    }
   ],
   "source": [
    "#Height\n",
    "## change to float\n",
    "player[\"height\"] = player[\"height\"].astype(\"float64\")\n",
    "player[\"height\"].head(20)"
   ]
  },
  {
   "cell_type": "code",
   "execution_count": 61,
   "id": "9ac6389e",
   "metadata": {},
   "outputs": [
    {
     "data": {
      "text/plain": [
       "0     93.60\n",
       "1     99.00\n",
       "2     92.25\n",
       "3    105.75\n",
       "4    106.20\n",
       "5     99.45\n",
       "6     77.85\n",
       "7     94.50\n",
       "8     81.00\n",
       "9     92.25\n",
       "Name: weight, dtype: float64"
      ]
     },
     "execution_count": 61,
     "metadata": {},
     "output_type": "execute_result"
    }
   ],
   "source": [
    "#Weight\n",
    "## change to kilogram\n",
    "\n",
    "player[\"weight\"] = player[\"weight\"] * 0.45\n",
    "player[\"weight\"].head(10)"
   ]
  },
  {
   "cell_type": "code",
   "execution_count": 62,
   "id": "b86d252d",
   "metadata": {},
   "outputs": [
    {
     "data": {
      "text/plain": [
       "0   1992-07-25\n",
       "1   1994-08-11\n",
       "2   1993-06-02\n",
       "3   1992-12-22\n",
       "4   1993-02-22\n",
       "5   1993-09-16\n",
       "6   1995-04-09\n",
       "7   1995-08-14\n",
       "8   1994-10-23\n",
       "9   1994-08-04\n",
       "Name: birthDate, dtype: datetime64[ns]"
      ]
     },
     "execution_count": 62,
     "metadata": {},
     "output_type": "execute_result"
    }
   ],
   "source": [
    "#BirthDate\n",
    "## Change to dd/mm/yyyy\n",
    "\n",
    "player[\"birthDate\"] = pd.to_datetime(player[\"birthDate\"])\n",
    "player[\"birthDate\"].head(10)"
   ]
  },
  {
   "cell_type": "code",
   "execution_count": 63,
   "id": "5df9807c",
   "metadata": {
    "scrolled": true
   },
   "outputs": [],
   "source": [
    "#change order datetime to dd/mm/yyyy\n",
    "\n",
    "player[\"birthDate\"] = player[\"birthDate\"].dt.strftime(\"%d/%m/%Y\")"
   ]
  },
  {
   "cell_type": "markdown",
   "id": "3209f8db",
   "metadata": {},
   "source": [
    "# Phase 2: Analyze Data "
   ]
  },
  {
   "cell_type": "code",
   "execution_count": 73,
   "id": "12bdcf52",
   "metadata": {},
   "outputs": [
    {
     "data": {
      "text/html": [
       "<div>\n",
       "<style scoped>\n",
       "    .dataframe tbody tr th:only-of-type {\n",
       "        vertical-align: middle;\n",
       "    }\n",
       "\n",
       "    .dataframe tbody tr th {\n",
       "        vertical-align: top;\n",
       "    }\n",
       "\n",
       "    .dataframe thead th {\n",
       "        text-align: right;\n",
       "    }\n",
       "</style>\n",
       "<table border=\"1\" class=\"dataframe\">\n",
       "  <thead>\n",
       "    <tr style=\"text-align: right;\">\n",
       "      <th></th>\n",
       "      <th>weight</th>\n",
       "    </tr>\n",
       "    <tr>\n",
       "      <th>Position</th>\n",
       "      <th></th>\n",
       "    </tr>\n",
       "  </thead>\n",
       "  <tbody>\n",
       "    <tr>\n",
       "      <th>WR</th>\n",
       "      <td>29258.55</td>\n",
       "    </tr>\n",
       "    <tr>\n",
       "      <th>T</th>\n",
       "      <td>26690.40</td>\n",
       "    </tr>\n",
       "    <tr>\n",
       "      <th>CB</th>\n",
       "      <td>26263.35</td>\n",
       "    </tr>\n",
       "    <tr>\n",
       "      <th>DE</th>\n",
       "      <td>25081.65</td>\n",
       "    </tr>\n",
       "    <tr>\n",
       "      <th>G</th>\n",
       "      <td>24272.10</td>\n",
       "    </tr>\n",
       "    <tr>\n",
       "      <th>DT</th>\n",
       "      <td>22638.15</td>\n",
       "    </tr>\n",
       "    <tr>\n",
       "      <th>OLB</th>\n",
       "      <td>21702.15</td>\n",
       "    </tr>\n",
       "    <tr>\n",
       "      <th>TE</th>\n",
       "      <td>21546.45</td>\n",
       "    </tr>\n",
       "    <tr>\n",
       "      <th>RB</th>\n",
       "      <td>17134.65</td>\n",
       "    </tr>\n",
       "    <tr>\n",
       "      <th>ILB</th>\n",
       "      <td>12438.90</td>\n",
       "    </tr>\n",
       "    <tr>\n",
       "      <th>C</th>\n",
       "      <td>11995.65</td>\n",
       "    </tr>\n",
       "    <tr>\n",
       "      <th>FS</th>\n",
       "      <td>10661.40</td>\n",
       "    </tr>\n",
       "    <tr>\n",
       "      <th>SS</th>\n",
       "      <td>9521.10</td>\n",
       "    </tr>\n",
       "    <tr>\n",
       "      <th>NT</th>\n",
       "      <td>6905.25</td>\n",
       "    </tr>\n",
       "    <tr>\n",
       "      <th>LS</th>\n",
       "      <td>5124.15</td>\n",
       "    </tr>\n",
       "    <tr>\n",
       "      <th>K</th>\n",
       "      <td>4984.20</td>\n",
       "    </tr>\n",
       "    <tr>\n",
       "      <th>P</th>\n",
       "      <td>4655.25</td>\n",
       "    </tr>\n",
       "    <tr>\n",
       "      <th>LB</th>\n",
       "      <td>4357.80</td>\n",
       "    </tr>\n",
       "    <tr>\n",
       "      <th>MLB</th>\n",
       "      <td>4028.40</td>\n",
       "    </tr>\n",
       "    <tr>\n",
       "      <th>DB</th>\n",
       "      <td>3471.75</td>\n",
       "    </tr>\n",
       "    <tr>\n",
       "      <th>FB</th>\n",
       "      <td>2960.10</td>\n",
       "    </tr>\n",
       "    <tr>\n",
       "      <th>OT</th>\n",
       "      <td>1278.45</td>\n",
       "    </tr>\n",
       "    <tr>\n",
       "      <th>QB</th>\n",
       "      <td>809.55</td>\n",
       "    </tr>\n",
       "    <tr>\n",
       "      <th>OG</th>\n",
       "      <td>275.85</td>\n",
       "    </tr>\n",
       "    <tr>\n",
       "      <th>S</th>\n",
       "      <td>184.05</td>\n",
       "    </tr>\n",
       "    <tr>\n",
       "      <th>HB</th>\n",
       "      <td>90.00</td>\n",
       "    </tr>\n",
       "  </tbody>\n",
       "</table>\n",
       "</div>"
      ],
      "text/plain": [
       "            weight\n",
       "Position          \n",
       "WR        29258.55\n",
       "T         26690.40\n",
       "CB        26263.35\n",
       "DE        25081.65\n",
       "G         24272.10\n",
       "DT        22638.15\n",
       "OLB       21702.15\n",
       "TE        21546.45\n",
       "RB        17134.65\n",
       "ILB       12438.90\n",
       "C         11995.65\n",
       "FS        10661.40\n",
       "SS         9521.10\n",
       "NT         6905.25\n",
       "LS         5124.15\n",
       "K          4984.20\n",
       "P          4655.25\n",
       "LB         4357.80\n",
       "MLB        4028.40\n",
       "DB         3471.75\n",
       "FB         2960.10\n",
       "OT         1278.45\n",
       "QB          809.55\n",
       "OG          275.85\n",
       "S           184.05\n",
       "HB           90.00"
      ]
     },
     "execution_count": 73,
     "metadata": {},
     "output_type": "execute_result"
    }
   ],
   "source": [
    "#weight by position (sum)\n",
    "\n",
    "weight_position_sum = pd.pivot_table(data = player, values = [\"weight\"], index = \"Position\", aggfunc = \"sum\")\n",
    "weight_position_sum.sort_values(by = \"weight\", ascending = False)"
   ]
  },
  {
   "cell_type": "code",
   "execution_count": 81,
   "id": "bfcd2462",
   "metadata": {
    "collapsed": true
   },
   "outputs": [
    {
     "data": {
      "text/html": [
       "<div>\n",
       "<style scoped>\n",
       "    .dataframe tbody tr th:only-of-type {\n",
       "        vertical-align: middle;\n",
       "    }\n",
       "\n",
       "    .dataframe tbody tr th {\n",
       "        vertical-align: top;\n",
       "    }\n",
       "\n",
       "    .dataframe thead th {\n",
       "        text-align: right;\n",
       "    }\n",
       "</style>\n",
       "<table border=\"1\" class=\"dataframe\">\n",
       "  <thead>\n",
       "    <tr style=\"text-align: right;\">\n",
       "      <th></th>\n",
       "      <th>weight</th>\n",
       "    </tr>\n",
       "    <tr>\n",
       "      <th>Position</th>\n",
       "      <th></th>\n",
       "    </tr>\n",
       "  </thead>\n",
       "  <tbody>\n",
       "    <tr>\n",
       "      <th>NT</th>\n",
       "      <td>143.859375</td>\n",
       "    </tr>\n",
       "    <tr>\n",
       "      <th>OT</th>\n",
       "      <td>142.050000</td>\n",
       "    </tr>\n",
       "    <tr>\n",
       "      <th>T</th>\n",
       "      <td>141.970213</td>\n",
       "    </tr>\n",
       "    <tr>\n",
       "      <th>G</th>\n",
       "      <td>141.942105</td>\n",
       "    </tr>\n",
       "    <tr>\n",
       "      <th>OG</th>\n",
       "      <td>137.925000</td>\n",
       "    </tr>\n",
       "    <tr>\n",
       "      <th>C</th>\n",
       "      <td>137.881034</td>\n",
       "    </tr>\n",
       "    <tr>\n",
       "      <th>DT</th>\n",
       "      <td>137.200909</td>\n",
       "    </tr>\n",
       "    <tr>\n",
       "      <th>DE</th>\n",
       "      <td>122.349512</td>\n",
       "    </tr>\n",
       "    <tr>\n",
       "      <th>TE</th>\n",
       "      <td>113.402368</td>\n",
       "    </tr>\n",
       "    <tr>\n",
       "      <th>FB</th>\n",
       "      <td>109.633333</td>\n",
       "    </tr>\n",
       "    <tr>\n",
       "      <th>OLB</th>\n",
       "      <td>109.606818</td>\n",
       "    </tr>\n",
       "    <tr>\n",
       "      <th>LS</th>\n",
       "      <td>109.024468</td>\n",
       "    </tr>\n",
       "    <tr>\n",
       "      <th>ILB</th>\n",
       "      <td>106.315385</td>\n",
       "    </tr>\n",
       "    <tr>\n",
       "      <th>LB</th>\n",
       "      <td>106.287805</td>\n",
       "    </tr>\n",
       "    <tr>\n",
       "      <th>MLB</th>\n",
       "      <td>106.010526</td>\n",
       "    </tr>\n",
       "    <tr>\n",
       "      <th>QB</th>\n",
       "      <td>101.193750</td>\n",
       "    </tr>\n",
       "    <tr>\n",
       "      <th>RB</th>\n",
       "      <td>95.724302</td>\n",
       "    </tr>\n",
       "    <tr>\n",
       "      <th>P</th>\n",
       "      <td>95.005102</td>\n",
       "    </tr>\n",
       "    <tr>\n",
       "      <th>SS</th>\n",
       "      <td>92.437864</td>\n",
       "    </tr>\n",
       "    <tr>\n",
       "      <th>S</th>\n",
       "      <td>92.025000</td>\n",
       "    </tr>\n",
       "    <tr>\n",
       "      <th>FS</th>\n",
       "      <td>91.908621</td>\n",
       "    </tr>\n",
       "    <tr>\n",
       "      <th>WR</th>\n",
       "      <td>90.026308</td>\n",
       "    </tr>\n",
       "    <tr>\n",
       "      <th>HB</th>\n",
       "      <td>90.000000</td>\n",
       "    </tr>\n",
       "    <tr>\n",
       "      <th>DB</th>\n",
       "      <td>89.019231</td>\n",
       "    </tr>\n",
       "    <tr>\n",
       "      <th>K</th>\n",
       "      <td>89.003571</td>\n",
       "    </tr>\n",
       "    <tr>\n",
       "      <th>CB</th>\n",
       "      <td>87.253654</td>\n",
       "    </tr>\n",
       "  </tbody>\n",
       "</table>\n",
       "</div>"
      ],
      "text/plain": [
       "              weight\n",
       "Position            \n",
       "NT        143.859375\n",
       "OT        142.050000\n",
       "T         141.970213\n",
       "G         141.942105\n",
       "OG        137.925000\n",
       "C         137.881034\n",
       "DT        137.200909\n",
       "DE        122.349512\n",
       "TE        113.402368\n",
       "FB        109.633333\n",
       "OLB       109.606818\n",
       "LS        109.024468\n",
       "ILB       106.315385\n",
       "LB        106.287805\n",
       "MLB       106.010526\n",
       "QB        101.193750\n",
       "RB         95.724302\n",
       "P          95.005102\n",
       "SS         92.437864\n",
       "S          92.025000\n",
       "FS         91.908621\n",
       "WR         90.026308\n",
       "HB         90.000000\n",
       "DB         89.019231\n",
       "K          89.003571\n",
       "CB         87.253654"
      ]
     },
     "execution_count": 81,
     "metadata": {},
     "output_type": "execute_result"
    }
   ],
   "source": [
    "#weight by position (avg)\n",
    "\n",
    "weight_position_mean = pd.pivot_table(data = player, index = [\"Position\"], values = [\"weight\"], aggfunc = \"mean\")\n",
    "weight_position_mean.sort_values(by = \"weight\", ascending = False)"
   ]
  },
  {
   "cell_type": "markdown",
   "id": "d186b6db",
   "metadata": {},
   "source": [
    "# Phase 3: Visualization "
   ]
  },
  {
   "cell_type": "code",
   "execution_count": 91,
   "id": "ac6f4e3f",
   "metadata": {},
   "outputs": [
    {
     "data": {
      "image/png": "[encoded data removed]",
      "text/plain": [
       "<Figure size 720x360 with 1 Axes>"
      ]
     },
     "metadata": {
      "needs_background": "light"
     },
     "output_type": "display_data"
    }
   ],
   "source": [
    "# Weight Summary by Position\n",
    "\n",
    "weight_position_sum_bar = weight_position_sum.plot(kind = \"bar\", title = \"Weight Summary by Position\", figsize = (10,5))\n",
    "plt.xticks(rotation = 45)\n",
    "plt.show()"
   ]
  },
  {
   "cell_type": "code",
   "execution_count": 90,
   "id": "86080973",
   "metadata": {},
   "outputs": [
    {
     "data": {
      "image/png": "[encoded data removed]",
      "text/plain": [
       "<Figure size 720x360 with 1 Axes>"
      ]
     },
     "metadata": {
      "needs_background": "light"
     },
     "output_type": "display_data"
    }
   ],
   "source": [
    "# Weight Mean by Position\n",
    "\n",
    "weight_position_mean_bar = weight_position_mean.plot(kind = \"bar\", title = \"Weight Mean by Position\", figsize = (10,5))\n",
    "plt.xticks(rotation = 45)\n",
    "plt.show()"
   ]
  },
  {
   "cell_type": "code",
   "execution_count": null,
   "id": "8409a857",
   "metadata": {},
   "outputs": [],
   "source": [
    "#That is the end of analysis"
   ]
  }
 ],
 "metadata": {
  "kernelspec": {
   "display_name": "Python 3 (ipykernel)",
   "language": "python",
   "name": "python3"
  },
  "language_info": {
   "codemirror_mode": {
    "name": "ipython",
    "version": 3
   },
   "file_extension": ".py",
   "mimetype": "text/x-python",
   "name": "python",
   "nbconvert_exporter": "python",
   "pygments_lexer": "ipython3",
   "version": "3.9.7"
  }
 },
 "nbformat": 4,
 "nbformat_minor": 5
}
